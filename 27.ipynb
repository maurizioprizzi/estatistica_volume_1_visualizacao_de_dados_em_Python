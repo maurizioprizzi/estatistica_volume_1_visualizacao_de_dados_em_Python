{
 "cells": [
  {
   "cell_type": "code",
   "execution_count": 3,
   "metadata": {},
   "outputs": [
    {
     "name": "stdout",
     "output_type": "stream",
     "text": [
      "2 | 0 2 2 3 4 4 4 4 5 5 6 6 7 8 8 9\n",
      "3 | 0 2 4 5 6 7 8 9\n",
      "4 | 0 2 4 5 6 7 8 9\n"
     ]
    }
   ],
   "source": [
    "def stem_leaf_plot(data):\n",
    "\n",
    "    # Organizando os dados\n",
    "    data.sort()\n",
    "    # criando um dicionário para guardar os caules e as folhas\n",
    "    stem_leaf = {}\n",
    "\n",
    "    for number in data:\n",
    "        stem, leaf = divmod(number, 10)\n",
    "\n",
    "        # Adicionando as folhas aos caules correspondentes\n",
    "        stem_leaf.setdefault(stem, []).append(leaf)\n",
    "# Lembre-se de ter cuidados com a identação do código\n",
    "# para garantir sua legibilidade e correta execução.\n",
    "    # Imprimindo o gráfico\n",
    "    for stem, leaves in stem_leaf.items():\n",
    "        print(f\"{stem} | {' '.join(map(str, leaves))}\")\n",
    "\n",
    "# Idades de um grupo de pessoas\n",
    "ages = [20, 24, 22, 24, 25, 26, 28, 22, 24, 23, 24, 25, 26, 27, 28, \n",
    "        29, 30, 32, 34, 35, 36, 37, 38, 39, 40, 42, 44, 45, 46, 47, 48, 49]\n",
    "\n",
    "\n",
    "stem_leaf_plot(ages)"
   ]
  },
  {
   "cell_type": "code",
   "execution_count": null,
   "metadata": {},
   "outputs": [],
   "source": []
  }
 ],
 "metadata": {
  "kernelspec": {
   "display_name": "base",
   "language": "python",
   "name": "python3"
  },
  "language_info": {
   "codemirror_mode": {
    "name": "ipython",
    "version": 3
   },
   "file_extension": ".py",
   "mimetype": "text/x-python",
   "name": "python",
   "nbconvert_exporter": "python",
   "pygments_lexer": "ipython3",
   "version": "3.10.11"
  },
  "orig_nbformat": 4
 },
 "nbformat": 4,
 "nbformat_minor": 2
}
