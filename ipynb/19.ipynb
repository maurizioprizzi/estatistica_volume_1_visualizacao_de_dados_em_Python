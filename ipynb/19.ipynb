{
 "cells": [
  {
   "cell_type": "code",
   "execution_count": 3,
   "metadata": {},
   "outputs": [
    {
     "name": "stdout",
     "output_type": "stream",
     "text": [
      "Tabela de Frequência Relativa de Linha:\n",
      "               Branco  Preto  Vermelho\n",
      "Sedã Compacto   33.33  26.67     40.00\n",
      "Sedã Médio      40.00  32.00     28.00\n",
      "Sedã de Luxo    42.86  34.29     22.86\n",
      "SUV Compacto    44.44  35.56     20.00\n",
      "SUV de Luxo     45.45  36.36     18.18\n",
      "\n",
      "Tabela de Frequência Relativa de Coluna:\n",
      "               Branco  Preto  Vermelho\n",
      "Sedã Compacto    6.67   6.67      15.0\n",
      "Sedã Médio      13.33  13.33      17.5\n",
      "Sedã de Luxo    20.00  20.00      20.0\n",
      "SUV Compacto    26.67  26.67      22.5\n",
      "SUV de Luxo     33.33  33.33      25.0\n"
     ]
    }
   ],
   "source": [
    "import pandas as pd\n",
    "\n",
    "# Criando um DataFrame de exemplo\n",
    "data = {\n",
    "    'Branco': [5, 10, 15, 20, 25],\n",
    "    'Preto': [4, 8, 12, 16, 20],\n",
    "    'Vermelho': [6, 7, 8, 9, 10]\n",
    "}\n",
    "\n",
    "df = pd.DataFrame(data, index=['Sedã Compacto', 'Sedã Médio', 'Sedã de Luxo', 'SUV Compacto', 'SUV de Luxo'])\n",
    "\n",
    "# Cálculo das frequências relativas de linha e coluna, convertendo para porcentagem e arredondando para 2 casas decimais\n",
    "df_row_freq = (df.div(df.sum(axis=1), axis=0) * 100).round(2)\n",
    "df_col_freq = (df.div(df.sum(axis=0), axis=1) * 100).round(2)\n",
    "\n",
    "print(\"Tabela de Frequência Relativa de Linha:\")\n",
    "print(df_row_freq)\n",
    "\n",
    "print(\"\\nTabela de Frequência Relativa de Coluna:\")\n",
    "print(df_col_freq)"
   ]
  },
  {
   "cell_type": "code",
   "execution_count": null,
   "metadata": {},
   "outputs": [],
   "source": []
  }
 ],
 "metadata": {
  "kernelspec": {
   "display_name": "base",
   "language": "python",
   "name": "python3"
  },
  "language_info": {
   "codemirror_mode": {
    "name": "ipython",
    "version": 3
   },
   "file_extension": ".py",
   "mimetype": "text/x-python",
   "name": "python",
   "nbconvert_exporter": "python",
   "pygments_lexer": "ipython3",
   "version": "3.10.11"
  },
  "orig_nbformat": 4
 },
 "nbformat": 4,
 "nbformat_minor": 2
}
