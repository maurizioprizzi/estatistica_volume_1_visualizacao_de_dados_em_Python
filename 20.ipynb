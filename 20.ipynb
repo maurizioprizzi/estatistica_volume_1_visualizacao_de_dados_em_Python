{
 "cells": [
  {
   "cell_type": "code",
   "execution_count": 9,
   "metadata": {},
   "outputs": [
    {
     "name": "stdout",
     "output_type": "stream",
     "text": [
      "Tabela de Distribuição Conjunta:\n",
      "                   Perda de Peso (0-5kg)  Perda de Peso (5-10kg)  \\\n",
      "Exercício (0-3h)                    9.80                    6.54   \n",
      "Exercício (3-6h)                    6.54                    9.80   \n",
      "Exercício (6-9h)                    3.27                    6.54   \n",
      "Exercício (9-12h)                   2.61                    3.27   \n",
      "Exercício (12+h)                    3.92                    2.61   \n",
      "Total                              26.14                   28.76   \n",
      "\n",
      "                   Perda de Peso (10-15kg)  Perda de Peso (15+kg)   Total  \n",
      "Exercício (0-3h)                      3.27                   3.27   22.88  \n",
      "Exercício (3-6h)                      6.54                   2.61   25.49  \n",
      "Exercício (6-9h)                      9.80                   3.27   22.88  \n",
      "Exercício (9-12h)                     6.54                   3.92   16.34  \n",
      "Exercício (12+h)                      2.61                   3.27   12.42  \n",
      "Total                                28.76                  16.34  100.00  \n",
      "\n",
      "Tabela de Distribuição Marginal (Horas de Exercício):\n",
      "                   Total\n",
      "Exercício (0-3h)   22.88\n",
      "Exercício (3-6h)   25.49\n",
      "Exercício (6-9h)   22.88\n",
      "Exercício (9-12h)  16.34\n",
      "Exercício (12+h)   12.42\n",
      "\n",
      "Tabela de Distribuição Marginal (Perda de Peso):\n",
      "                         Total\n",
      "Perda de Peso (0-5kg)    26.14\n",
      "Perda de Peso (5-10kg)   28.76\n",
      "Perda de Peso (10-15kg)  28.76\n",
      "Perda de Peso (15+kg)    16.34\n"
     ]
    }
   ],
   "source": [
    "import pandas as pd\n",
    "\n",
    "# Dados da pesquisa\n",
    "data = {\n",
    "    'Perda de Peso (0-5kg)': [15, 10, 5, 4, 6],\n",
    "    'Perda de Peso (5-10kg)': [10, 15, 10, 5, 4],\n",
    "    'Perda de Peso (10-15kg)': [5, 10, 15, 10, 4],\n",
    "    'Perda de Peso (15+kg)': [5, 4, 5, 6, 5],\n",
    "}\n",
    "\n",
    "df = pd.DataFrame(data, index=['Exercício (0-3h)', 'Exercício (3-6h)', 'Exercício (6-9h)', 'Exercício (9-12h)', 'Exercício (12+h)'])\n",
    "\n",
    "# Tabela de Distribuição Conjunta\n",
    "df_conjunta = df.copy()\n",
    "\n",
    "# Adicionando uma coluna \"Total\"\n",
    "df_conjunta['Total'] = df_conjunta.sum(axis=1)\n",
    "\n",
    "# Adicionando uma linha \"Total\"\n",
    "df_conjunta.loc['Total'] = df_conjunta.sum()\n",
    "\n",
    "# Convertendo para frequências relativas (em porcentagem) e arredondando para 2 casas decimais\n",
    "df_conjunta = (df_conjunta / df_conjunta.loc['Total', 'Total'] * 100).round(2)\n",
    "\n",
    "print(\"Tabela de Distribuição Conjunta:\")\n",
    "print(df_conjunta)\n",
    "\n",
    "# Tabela de distribuição marginal das horas de exercício\n",
    "df_exercicio = pd.DataFrame(df.sum(axis=1), columns=['Total'])\n",
    "df_exercicio = (df_exercicio / df_exercicio.sum() * 100).round(2)\n",
    "\n",
    "print(\"\\nTabela de Distribuição Marginal (Horas de Exercício):\")\n",
    "print(df_exercicio)\n",
    "\n",
    "# Tabela de distribuição marginal da perda de peso\n",
    "df_peso = pd.DataFrame(df.sum(), columns=['Total'])\n",
    "df_peso = (df_peso / df_peso.sum() * 100).round(2)\n",
    "\n",
    "print(\"\\nTabela de Distribuição Marginal (Perda de Peso):\")\n",
    "print(df_peso)\n"
   ]
  },
  {
   "cell_type": "code",
   "execution_count": 10,
   "metadata": {},
   "outputs": [
    {
     "name": "stdout",
     "output_type": "stream",
     "text": [
      "Distribuição Condicional (Horas de Exercício):\n",
      "                   Perda de Peso (0-5kg)  Perda de Peso (5-10kg)  \\\n",
      "Exercício (0-3h)                0.428571                0.285714   \n",
      "Exercício (3-6h)                0.256410                0.384615   \n",
      "Exercício (6-9h)                0.142857                0.285714   \n",
      "Exercício (9-12h)               0.160000                0.200000   \n",
      "Exercício (12+h)                0.315789                0.210526   \n",
      "\n",
      "                   Perda de Peso (10-15kg)  Perda de Peso (15+kg)  \n",
      "Exercício (0-3h)                  0.142857               0.142857  \n",
      "Exercício (3-6h)                  0.256410               0.102564  \n",
      "Exercício (6-9h)                  0.428571               0.142857  \n",
      "Exercício (9-12h)                 0.400000               0.240000  \n",
      "Exercício (12+h)                  0.210526               0.263158  \n",
      "\n",
      "Distribuição Condicional (Perda de Peso):\n",
      "                   Perda de Peso (0-5kg)  Perda de Peso (5-10kg)  \\\n",
      "Exercício (0-3h)                   0.375                0.227273   \n",
      "Exercício (3-6h)                   0.250                0.340909   \n",
      "Exercício (6-9h)                   0.125                0.227273   \n",
      "Exercício (9-12h)                  0.100                0.113636   \n",
      "Exercício (12+h)                   0.150                0.090909   \n",
      "\n",
      "                   Perda de Peso (10-15kg)  Perda de Peso (15+kg)  \n",
      "Exercício (0-3h)                  0.113636                   0.20  \n",
      "Exercício (3-6h)                  0.227273                   0.16  \n",
      "Exercício (6-9h)                  0.340909                   0.20  \n",
      "Exercício (9-12h)                 0.227273                   0.24  \n",
      "Exercício (12+h)                  0.090909                   0.20  \n"
     ]
    }
   ],
   "source": [
    "# Cálculo das distribuições condicionais\n",
    "df_cond_exercicio = df.div(df.sum(axis=1), axis=0)\n",
    "df_cond_peso = df.div(df.sum(axis=0), axis=1)\n",
    "\n",
    "print(\"Distribuição Condicional (Horas de Exercício):\")\n",
    "print(df_cond_exercicio)\n",
    "\n",
    "print(\"\\nDistribuição Condicional (Perda de Peso):\")\n",
    "print(df_cond_peso)"
   ]
  },
  {
   "cell_type": "code",
   "execution_count": null,
   "metadata": {},
   "outputs": [],
   "source": []
  }
 ],
 "metadata": {
  "kernelspec": {
   "display_name": "base",
   "language": "python",
   "name": "python3"
  },
  "language_info": {
   "codemirror_mode": {
    "name": "ipython",
    "version": 3
   },
   "file_extension": ".py",
   "mimetype": "text/x-python",
   "name": "python",
   "nbconvert_exporter": "python",
   "pygments_lexer": "ipython3",
   "version": "3.10.11"
  },
  "orig_nbformat": 4
 },
 "nbformat": 4,
 "nbformat_minor": 2
}
