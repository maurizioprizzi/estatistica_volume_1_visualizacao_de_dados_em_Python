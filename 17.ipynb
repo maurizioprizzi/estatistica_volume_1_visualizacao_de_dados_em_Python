{
 "cells": [
  {
   "cell_type": "code",
   "execution_count": 5,
   "metadata": {},
   "outputs": [
    {
     "name": "stdout",
     "output_type": "stream",
     "text": [
      "               Com Confeitos  Sem Confeitos  Total\n",
      "Cobertura                  5              6     11\n",
      "Sem Cobertura              4              5      9\n",
      "Total                      9             11     20\n"
     ]
    }
   ],
   "source": [
    "import pandas as pd\n",
    "from matplotlib_venn import venn2\n",
    "import matplotlib.pyplot as plt\n",
    "\n",
    "# Valores para a tabela de contingência\n",
    "cobertura_com_confeitos = 5\n",
    "cobertura_sem_confeitos = 6\n",
    "sem_cobertura_com_confeitos = 4\n",
    "sem_cobertura_sem_confeitos = 5\n",
    "\n",
    "# Criação da tabela de contingência\n",
    "dados = {'Com Confeitos': [cobertura_com_confeitos, sem_cobertura_com_confeitos],\n",
    "         'Sem Confeitos': [cobertura_sem_confeitos, sem_cobertura_sem_confeitos]}\n",
    "\n",
    "df = pd.DataFrame(dados, index=['Cobertura', 'Sem Cobertura'])\n",
    "\n",
    "# Adiciona uma linha de Total\n",
    "df.loc['Total'] = df.sum()\n",
    "\n",
    "# Adiciona uma coluna de Total\n",
    "df['Total'] = df.sum(axis=1)\n",
    "\n",
    "# Impressão da tabela\n",
    "print(df)"
   ]
  },
  {
   "cell_type": "code",
   "execution_count": null,
   "metadata": {},
   "outputs": [],
   "source": []
  }
 ],
 "metadata": {
  "kernelspec": {
   "display_name": "base",
   "language": "python",
   "name": "python3"
  },
  "language_info": {
   "codemirror_mode": {
    "name": "ipython",
    "version": 3
   },
   "file_extension": ".py",
   "mimetype": "text/x-python",
   "name": "python",
   "nbconvert_exporter": "python",
   "pygments_lexer": "ipython3",
   "version": "3.10.11"
  },
  "orig_nbformat": 4
 },
 "nbformat": 4,
 "nbformat_minor": 2
}
