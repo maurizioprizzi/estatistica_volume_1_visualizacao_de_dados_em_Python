{
 "cells": [
  {
   "cell_type": "code",
   "execution_count": null,
   "metadata": {},
   "outputs": [],
   "source": [
    "# Criando um DataFrame de exemplo\n",
    "data = {\n",
    "    'Branco': [5, 10, 15, 20, 25],\n",
    "    'Preto': [4, 8, 12, 16, 20],\n",
    "    'Vermelho': [6, 7, 8, 9, 10]\n",
    "}\n",
    "\n",
    "df = pd.DataFrame(data, index=['Sedã Compacto', 'Sedã Médio', 'Sedã de Luxo', 'SUV Compacto', 'SUV de Luxo'])\n",
    "\n",
    "# Cálculo das frequências relativas de linha e coluna, convertendo para porcentagem e arredondando para 2 casas decimais\n",
    "df_row_freq = (df.div(df.sum(axis=1), axis=0) * 100).round(2)\n",
    "df_col_freq = (df.div(df.sum(axis=0), axis=1) * 100).round(2)\n",
    "\n",
    "print(\"Tabela de Frequência Relativa de Linha:\")\n",
    "print(df_row_freq)\n",
    "\n",
    "print(\"\\nTabela de Frequência Relativa de Coluna:\")\n",
    "print(df_col_freq)"
   ]
  }
 ],
 "metadata": {
  "language_info": {
   "name": "python"
  },
  "orig_nbformat": 4
 },
 "nbformat": 4,
 "nbformat_minor": 2
}
