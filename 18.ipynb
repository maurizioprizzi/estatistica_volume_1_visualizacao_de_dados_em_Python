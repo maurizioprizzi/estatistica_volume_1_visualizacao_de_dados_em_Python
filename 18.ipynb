{
 "cells": [
  {
   "cell_type": "code",
   "execution_count": 9,
   "metadata": {},
   "outputs": [
    {
     "name": "stdout",
     "output_type": "stream",
     "text": [
      "     Tipo de Carro  Unidades Vendidas      Cor  Frequência Relativa (%)\n",
      "     Sedã Compacto                 15   Branco                13.043478\n",
      "        Sedã Médio                 18    Preto                15.652174\n",
      "      Sedã de Luxo                  7 Vermelho                 6.086957\n",
      "      SUV Compacto                 20   Branco                17.391304\n",
      "       SUV de Luxo                 12    Preto                10.434783\n",
      "    Picape Pequena                  8 Vermelho                 6.956522\n",
      "     Picape Grande                 10   Branco                 8.695652\n",
      "           Minivan                 11    Preto                 9.565217\n",
      "Esportivo Compacto                  9 Vermelho                 7.826087\n",
      " Esportivo de Luxo                  5   Branco                 4.347826\n"
     ]
    }
   ],
   "source": [
    "import pandas as pd\n",
    "\n",
    "data = {\n",
    "    'Tipo de Carro': ['Sedã Compacto', 'Sedã Médio', 'Sedã de Luxo', 'SUV Compacto', 'SUV de Luxo', 'Picape Pequena', 'Picape Grande', 'Minivan', 'Esportivo Compacto', 'Esportivo de Luxo'],\n",
    "    'Unidades Vendidas': [15, 18, 7, 20, 12, 8, 10, 11, 9, 5],\n",
    "    'Cor': ['Branco', 'Preto', 'Vermelho', 'Branco', 'Preto', 'Vermelho', 'Branco', 'Preto', 'Vermelho', 'Branco']\n",
    "}\n",
    "\n",
    "df = pd.DataFrame(data)\n",
    "\n",
    "# Cálculo da frequência relativa\n",
    "df['Frequência Relativa (%)'] = (df['Unidades Vendidas'] / df['Unidades Vendidas'].sum()) * 100\n",
    "\n",
    "print(df.to_string(index=False))"
   ]
  },
  {
   "cell_type": "code",
   "execution_count": null,
   "metadata": {},
   "outputs": [],
   "source": []
  }
 ],
 "metadata": {
  "kernelspec": {
   "display_name": "base",
   "language": "python",
   "name": "python3"
  },
  "language_info": {
   "codemirror_mode": {
    "name": "ipython",
    "version": 3
   },
   "file_extension": ".py",
   "mimetype": "text/x-python",
   "name": "python",
   "nbconvert_exporter": "python",
   "pygments_lexer": "ipython3",
   "version": "3.10.11"
  },
  "orig_nbformat": 4
 },
 "nbformat": 4,
 "nbformat_minor": 2
}
