{
 "cells": [
  {
   "cell_type": "code",
   "execution_count": 1,
   "metadata": {},
   "outputs": [
    {
     "name": "stdout",
     "output_type": "stream",
     "text": [
      "     Nomes  Altura (cm)\n",
      "0    Maria          165\n",
      "1     João          180\n",
      "2      Ana          155\n",
      "3    Pedro          175\n",
      "4    Sofia          160\n",
      "5   Miguel          170\n",
      "6    Clara          165\n",
      "7    Lucas          185\n",
      "8  Beatriz          150\n",
      "9  Gabriel          175\n"
     ]
    }
   ],
   "source": [
    "# Vamos começar carregando o arquivo CSV com os dados da tabela.\n",
    "# Certifique-se de ajustar o caminho do arquivo para o local correto.\n",
    "\n",
    "import pandas as pd\n",
    "\n",
    "# Carregar o arquivo CSV\n",
    "dataframe = pd.read_csv('alunos.csv')\n",
    "\n",
    "# Agora que os dados estão carregados, podemos prosseguir com a análise e manipulação\n",
    "\n",
    "# Exibir a tabela\n",
    "print(dataframe)"
   ]
  },
  {
   "cell_type": "code",
   "execution_count": null,
   "metadata": {},
   "outputs": [],
   "source": []
  }
 ],
 "metadata": {
  "kernelspec": {
   "display_name": "base",
   "language": "python",
   "name": "python3"
  },
  "language_info": {
   "codemirror_mode": {
    "name": "ipython",
    "version": 3
   },
   "file_extension": ".py",
   "mimetype": "text/x-python",
   "name": "python",
   "nbconvert_exporter": "python",
   "pygments_lexer": "ipython3",
   "version": "3.10.11"
  },
  "orig_nbformat": 4
 },
 "nbformat": 4,
 "nbformat_minor": 2
}
