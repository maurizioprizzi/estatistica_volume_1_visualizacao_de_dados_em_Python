{
 "cells": [
  {
   "cell_type": "code",
   "execution_count": 22,
   "metadata": {},
   "outputs": [],
   "source": [
    "import pandas as pd\n",
    "import matplotlib.pyplot as plt"
   ]
  },
  {
   "cell_type": "code",
   "execution_count": 23,
   "metadata": {},
   "outputs": [],
   "source": [
    "# Ler o arquivo .csv\n",
    "df = pd.read_csv('artista.csv')"
   ]
  },
  {
   "cell_type": "code",
   "execution_count": 24,
   "metadata": {},
   "outputs": [],
   "source": [
    "# Calcular a soma dos ganhos por mês\n",
    "df['ganho'] = df.iloc[:, 1:].sum(axis=1)\n",
    "\n",
    "# Selecionar apenas as colunas 'mês' e 'ganho'\n",
    "df = df[['mês', 'ganho']]"
   ]
  },
  {
   "cell_type": "code",
   "execution_count": 25,
   "metadata": {},
   "outputs": [
    {
     "name": "stdout",
     "output_type": "stream",
     "text": [
      "      mês   ganho\n",
      "  janeiro 16501.5\n",
      "fevereiro 17301.5\n",
      "    março 18201.5\n",
      "    abril 19101.5\n",
      "     maio 20001.5\n",
      "    junho 20901.5\n",
      "    julho 21801.5\n",
      "   agosto 22701.5\n",
      " setembro 23602.5\n",
      "  outubro 24502.5\n",
      " novembro 25402.5\n",
      " dezembro 26302.5\n"
     ]
    }
   ],
   "source": [
    "print(df.to_string(index=False))"
   ]
  },
  {
   "cell_type": "code",
   "execution_count": null,
   "metadata": {},
   "outputs": [],
   "source": []
  }
 ],
 "metadata": {
  "kernelspec": {
   "display_name": "base",
   "language": "python",
   "name": "python3"
  },
  "language_info": {
   "codemirror_mode": {
    "name": "ipython",
    "version": 3
   },
   "file_extension": ".py",
   "mimetype": "text/x-python",
   "name": "python",
   "nbconvert_exporter": "python",
   "pygments_lexer": "ipython3",
   "version": "3.10.11"
  },
  "orig_nbformat": 4
 },
 "nbformat": 4,
 "nbformat_minor": 2
}
