{
 "cells": [
  {
   "cell_type": "code",
   "execution_count": 4,
   "metadata": {},
   "outputs": [],
   "source": [
    "import pandas as pd"
   ]
  },
  {
   "cell_type": "code",
   "execution_count": 5,
   "metadata": {},
   "outputs": [],
   "source": [
    "# Ler o arquivo CSV\n",
    "df = pd.read_csv('depositos.csv')"
   ]
  },
  {
   "cell_type": "code",
   "execution_count": 6,
   "metadata": {},
   "outputs": [
    {
     "name": "stdout",
     "output_type": "stream",
     "text": [
      " idade  deposito_anual  total_acumulado\n",
      "    30            4400             4400\n",
      "    31            4400             8800\n",
      "    32            4400            13200\n",
      "    33            4400            17600\n",
      "    34            4400            22000\n",
      "    35            4400            26400\n",
      "    36            4400            30800\n",
      "    37            4400            35200\n",
      "    38            4400            39600\n",
      "    39            4400            44000\n",
      "    40            4400            48400\n"
     ]
    }
   ],
   "source": [
    "# Adicionar a terceira coluna com a soma progressiva acumulada\n",
    "df['total_acumulado'] = df['deposito_anual'].cumsum()\n",
    "\n",
    "# Exibir a tabela resultante\n",
    "print(df.to_string(index=False))"
   ]
  },
  {
   "cell_type": "code",
   "execution_count": null,
   "metadata": {},
   "outputs": [],
   "source": []
  }
 ],
 "metadata": {
  "kernelspec": {
   "display_name": "base",
   "language": "python",
   "name": "python3"
  },
  "language_info": {
   "codemirror_mode": {
    "name": "ipython",
    "version": 3
   },
   "file_extension": ".py",
   "mimetype": "text/x-python",
   "name": "python",
   "nbconvert_exporter": "python",
   "pygments_lexer": "ipython3",
   "version": "3.10.11"
  },
  "orig_nbformat": 4
 },
 "nbformat": 4,
 "nbformat_minor": 2
}
